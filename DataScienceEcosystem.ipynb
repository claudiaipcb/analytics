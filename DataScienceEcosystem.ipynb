{
 "cells": [
  {
   "cell_type": "markdown",
   "id": "ba42e745",
   "metadata": {},
   "source": [
    "## Ex 2\n",
    "# Data Science Tools and Ecosystem"
   ]
  },
  {
   "cell_type": "markdown",
   "id": "34c0faaa",
   "metadata": {},
   "source": [
    "## Ex 3\n",
    "## Introduction\n",
    "\n",
    "In this notebook, Data Science Tools and Ecosystem are summarized to provide a foundational understanding of the essential resources used in the data science field."
   ]
  },
  {
   "cell_type": "markdown",
   "id": "578171ef",
   "metadata": {},
   "source": [
    "## Ex4\n",
    "## Data Science Languages\n",
    "# Some of the popular languages that Data Scientists use are:\n",
    "\n",
    "1. Python\n",
    "2. R\n",
    "3. SQL\n",
    "4. Julia\n",
    "5. Scala"
   ]
  },
  {
   "cell_type": "markdown",
   "id": "264bd6ef",
   "metadata": {},
   "source": [
    "## Ex 5\n",
    "## Data Science Libraries\n",
    "# Some of the commonly used libraries used by Data Scientists include:\n",
    "\n",
    "1. Pandas\n",
    "2. NumPy\n",
    "3. Matplotlib\n",
    "4. Scikit-learn\n",
    "5. TensorFlow\n"
   ]
  },
  {
   "cell_type": "markdown",
   "id": "2267c3d9",
   "metadata": {},
   "source": [
    "## Ex 6\n",
    "## Data Science Tools\n",
    "\n",
    "| Data Science Tools       |\n",
    "|--------------------------|\n",
    "| Jupyter Notebook         |\n",
    "| RStudio                  |\n",
    "| Apache Zeppelin          |"
   ]
  },
  {
   "cell_type": "markdown",
   "id": "bf0ddb27",
   "metadata": {},
   "source": [
    "## Ex 7\n",
    "### Below are a few examples of evaluating arithmetic expressions in Python."
   ]
  },
  {
   "cell_type": "code",
   "execution_count": null,
   "id": "2097314f",
   "metadata": {},
   "outputs": [],
   "source": [
    "# Addition\n",
    "print(3 + 5)\n",
    "\n",
    "# Multiplication\n",
    "print(7 * 6)\n",
    "\n",
    "# Mixed operations with parentheses\n",
    "print((4 + 5) * 2)"
   ]
  },
  {
   "cell_type": "code",
   "execution_count": null,
   "id": "6629a68d",
   "metadata": {},
   "outputs": [],
   "source": [
    "#ex 8\n",
    "# This is a simple arithmetic expression to multiply then add integers\n",
    "(3 * 4) + 5"
   ]
  },
  {
   "cell_type": "code",
   "execution_count": null,
   "id": "27a11ae9",
   "metadata": {},
   "outputs": [],
   "source": [
    "##Ex 9\n",
    "# This will convert 200 minutes to hours by dividing by 60\n",
    "200 / 60"
   ]
  },
  {
   "cell_type": "markdown",
   "id": "d9be13af",
   "metadata": {},
   "source": [
    "#ex 10\n",
    "**Objectives:**\n",
    "\n",
    "- List popular languages for Data Science\n",
    "- Identify commonly used libraries for Data Science\n",
    "- Introduce open-source development environment tools\n",
    "- Demonstrate evaluating arithmetic expressions in Python\n",
    "- Convert units of time using simple Python operations\n"
   ]
  },
  {
   "cell_type": "markdown",
   "id": "cc321ad0",
   "metadata": {},
   "source": [
    "## Author\n",
    "\n",
    "Claudia Silva"
   ]
  }
 ],
 "metadata": {
  "language_info": {
   "name": "python"
  }
 },
 "nbformat": 4,
 "nbformat_minor": 5
}
